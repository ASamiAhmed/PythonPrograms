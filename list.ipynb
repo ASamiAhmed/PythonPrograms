{
  "nbformat": 4,
  "nbformat_minor": 0,
  "metadata": {
    "colab": {
      "name": "list.ipynb",
      "provenance": [],
      "authorship_tag": "ABX9TyM2I7JTyB2T2SgPvh0sfQXc",
      "include_colab_link": true
    },
    "kernelspec": {
      "name": "python3",
      "display_name": "Python 3"
    }
  },
  "cells": [
    {
      "cell_type": "markdown",
      "metadata": {
        "id": "view-in-github",
        "colab_type": "text"
      },
      "source": [
        "<a href=\"https://colab.research.google.com/github/ASamiAhmed/PythonPrograms/blob/main/list.ipynb\" target=\"_parent\"><img src=\"https://colab.research.google.com/assets/colab-badge.svg\" alt=\"Open In Colab\"/></a>"
      ]
    },
    {
      "cell_type": "code",
      "metadata": {
        "id": "L7XaOC3eJFdZ",
        "outputId": "b2583716-1efb-4d93-fbd9-a5865d6db156",
        "colab": {
          "base_uri": "https://localhost:8080/",
          "height": 34
        }
      },
      "source": [
        "print(1)"
      ],
      "execution_count": 1,
      "outputs": [
        {
          "output_type": "stream",
          "text": [
            "1\n"
          ],
          "name": "stdout"
        }
      ]
    },
    {
      "cell_type": "code",
      "metadata": {
        "id": "JPvO6hdlJjYe"
      },
      "source": [
        "planets = [\"mercury\",\"venus\",\"earth\",\"mars\",\"jupiter\",\"saturn\",\"uranus\",\"neptune\"]"
      ],
      "execution_count": 44,
      "outputs": []
    },
    {
      "cell_type": "code",
      "metadata": {
        "id": "D4Fud5oOJxBZ"
      },
      "source": [
        "planets.append(\"pluto\")"
      ],
      "execution_count": 4,
      "outputs": []
    },
    {
      "cell_type": "code",
      "metadata": {
        "id": "MnFklQPKJxI1"
      },
      "source": [
        "    poping = planets.pop(4)"
      ],
      "execution_count": 6,
      "outputs": []
    },
    {
      "cell_type": "code",
      "metadata": {
        "id": "FvW7nHqbKiSP"
      },
      "source": [
        "planets.insert(4,\"jupiter\")"
      ],
      "execution_count": 9,
      "outputs": []
    },
    {
      "cell_type": "code",
      "metadata": {
        "id": "AdN72nAVKiPL",
        "outputId": "db4fdc81-b86b-4a69-f097-29f26d43bfbb",
        "colab": {
          "base_uri": "https://localhost:8080/",
          "height": 34
        }
      },
      "source": [
        "print(planets.count(\"Jupiter\"))"
      ],
      "execution_count": 12,
      "outputs": [
        {
          "output_type": "stream",
          "text": [
            "0\n"
          ],
          "name": "stdout"
        }
      ]
    },
    {
      "cell_type": "code",
      "metadata": {
        "id": "wS0o1AHHKiEm"
      },
      "source": [
        "planets.extend([\"pluto\",\"jumbo\"])"
      ],
      "execution_count": 14,
      "outputs": []
    },
    {
      "cell_type": "code",
      "metadata": {
        "id": "R-s4nBshMpQ_"
      },
      "source": [
        "planets.append([\"pluto\",\"jumbo\"])"
      ],
      "execution_count": 16,
      "outputs": []
    },
    {
      "cell_type": "code",
      "metadata": {
        "id": "6WYXi0bbOY7b"
      },
      "source": [
        ""
      ],
      "execution_count": null,
      "outputs": []
    },
    {
      "cell_type": "code",
      "metadata": {
        "id": "Y_ftJoqxM6bg",
        "outputId": "d173346e-8ae5-4c6a-8ed1-d14c7c29e2b3",
        "colab": {
          "base_uri": "https://localhost:8080/",
          "height": 34
        }
      },
      "source": [
        "planets.index(\"jupiter\")"
      ],
      "execution_count": 19,
      "outputs": [
        {
          "output_type": "execute_result",
          "data": {
            "text/plain": [
              "4"
            ]
          },
          "metadata": {
            "tags": []
          },
          "execution_count": 19
        }
      ]
    },
    {
      "cell_type": "code",
      "metadata": {
        "id": "oQ85yWhiM6ew"
      },
      "source": [
        "planets.reverse()"
      ],
      "execution_count": 23,
      "outputs": []
    },
    {
      "cell_type": "code",
      "metadata": {
        "id": "QsnIa4LGNXr7"
      },
      "source": [
        "planets.remove(\"jupiter\")"
      ],
      "execution_count": 25,
      "outputs": []
    },
    {
      "cell_type": "code",
      "metadata": {
        "id": "gqe5L4SUSzMQ"
      },
      "source": [
        "planets.clear()    "
      ],
      "execution_count": 45,
      "outputs": []
    },
    {
      "cell_type": "code",
      "metadata": {
        "id": "kcmuqplgSzYP"
      },
      "source": [
        ""
      ],
      "execution_count": 44,
      "outputs": []
    },
    {
      "cell_type": "code",
      "metadata": {
        "id": "IStu_PxPOSPh"
      },
      "source": [
        "abc = ['a','d','b','c']"
      ],
      "execution_count": 39,
      "outputs": []
    },
    {
      "cell_type": "code",
      "metadata": {
        "id": "Fac74qi9N4up"
      },
      "source": [
        "abc.sort(reverse=True)"
      ],
      "execution_count": 40,
      "outputs": []
    },
    {
      "cell_type": "code",
      "metadata": {
        "id": "QjIrGnv-OZxA",
        "outputId": "32ecbcac-b257-418f-8f38-3df97042de0b",
        "colab": {
          "base_uri": "https://localhost:8080/",
          "height": 34
        }
      },
      "source": [
        "print(abc)"
      ],
      "execution_count": 41,
      "outputs": [
        {
          "output_type": "stream",
          "text": [
            "['d', 'c', 'b', 'a']\n"
          ],
          "name": "stdout"
        }
      ]
    },
    {
      "cell_type": "code",
      "metadata": {
        "id": "lzlPiseeJxE1",
        "outputId": "d2747d71-c721-4eee-a053-6459ffd0c001",
        "colab": {
          "base_uri": "https://localhost:8080/",
          "height": 34
        }
      },
      "source": [
        "print(planets)"
      ],
      "execution_count": 28,
      "outputs": [
        {
          "output_type": "stream",
          "text": [
            "['earth', 'jumbo', 'mars', 'mercury', 'neptune', 'pluto', 'saturn', 'uranus', 'venus', ['pluto', 'jumbo']]\n"
          ],
          "name": "stdout"
        }
      ]
    },
    {
      "cell_type": "code",
      "metadata": {
        "id": "uY48h0vpTo6c"
      },
      "source": [
        "planets = ['earth', 'jumbo', 'mars', 'mercury', 'neptune', 'pluto', 'saturn', 'uranus', 'venus']"
      ],
      "execution_count": 46,
      "outputs": []
    },
    {
      "cell_type": "code",
      "metadata": {
        "id": "UF1gfgPVTpp0"
      },
      "source": [
        "abc = [1,2,3]"
      ],
      "execution_count": 52,
      "outputs": []
    },
    {
      "cell_type": "code",
      "metadata": {
        "id": "2HtryFbeTql2"
      },
      "source": [
        "join =planets +abc\n"
      ],
      "execution_count": 47,
      "outputs": []
    },
    {
      "cell_type": "code",
      "metadata": {
        "id": "lD35TBMoUM8x",
        "outputId": "368cd9f5-c1ce-48ea-af31-c3fc3f55c560",
        "colab": {
          "base_uri": "https://localhost:8080/",
          "height": 34
        }
      },
      "source": [
        "print(join)"
      ],
      "execution_count": 48,
      "outputs": [
        {
          "output_type": "stream",
          "text": [
            "['earth', 'jumbo', 'mars', 'mercury', 'neptune', 'pluto', 'saturn', 'uranus', 'venus', 'd', 'c', 'b', 'a']\n"
          ],
          "name": "stdout"
        }
      ]
    },
    {
      "cell_type": "code",
      "metadata": {
        "id": "T23TQ_nUUbNI"
      },
      "source": [
        "for x in abc:\n",
        "  planets.append(x)\n"
      ],
      "execution_count": 54,
      "outputs": []
    },
    {
      "cell_type": "code",
      "metadata": {
        "id": "TjyDWIt3UwVl",
        "outputId": "26958948-c520-4417-a2cb-6f23e4923aa1",
        "colab": {
          "base_uri": "https://localhost:8080/",
          "height": 34
        }
      },
      "source": [
        "print(planets)"
      ],
      "execution_count": 55,
      "outputs": [
        {
          "output_type": "stream",
          "text": [
            "['earth', 'jumbo', 'mars', 'mercury', 'neptune', 'pluto', 'saturn', 'uranus', 'venus', 1, 2, 3]\n"
          ],
          "name": "stdout"
        }
      ]
    }
  ]
}